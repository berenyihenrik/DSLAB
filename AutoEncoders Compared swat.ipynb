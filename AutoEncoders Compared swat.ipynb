{
  "nbformat": 4,
  "nbformat_minor": 0,
  "metadata": {
    "colab": {
      "provenance": [],
      "gpuType": "T4"
    },
    "kernelspec": {
      "name": "python3",
      "display_name": "Python 3"
    },
    "language_info": {
      "name": "python"
    },
    "accelerator": "GPU"
  },
  "cells": [
    {
      "cell_type": "markdown",
      "source": [
        "# Setup Environment and Read Data"
      ],
      "metadata": {
        "id": "YPOOHjNpYkOQ"
      }
    },
    {
      "cell_type": "code",
      "execution_count": null,
      "metadata": {
        "id": "PRI6Ne_LYfaB"
      },
      "outputs": [],
      "source": [
        "import torch\n",
        "import numpy as np\n",
        "import pandas as pd\n",
        "import pickle\n",
        "import copy\n",
        "from tqdm import trange,tqdm\n",
        "import torch.nn as nn\n",
        "from torch.optim import Adam\n",
        "from torch.optim.lr_scheduler import ReduceLROnPlateau\n",
        "import matplotlib.pyplot as plt\n",
        "from torch.utils.data import DataLoader\n",
        "from sklearn.model_selection import train_test_split\n",
        "from sklearn.preprocessing import MinMaxScaler\n",
        "from sklearn.metrics import f1_score, classification_report, confusion_matrix"
      ]
    },
    {
      "cell_type": "markdown",
      "source": [
        "## Setup the Dataset"
      ],
      "metadata": {
        "id": "y2w0Pp7uYrCb"
      }
    },
    {
      "cell_type": "code",
      "source": [
        "DRIVE = \"drive/MyDrive/Colab Notebooks/ELTE/DSLAB/swat/\"\n",
        "DRIVE = \"swat/\"\n",
        "TRAIN_FILE_NAME = \"SWaT_Dataset_Normal_v0 1.csv\"\n",
        "TRAIN_DATASET = DRIVE + TRAIN_FILE_NAME\n",
        "TEST_FILE_NAME = \"SWaT_Dataset_Attack_v0 1.csv\"\n",
        "TEST_DATASET = DRIVE + TEST_FILE_NAME\n",
        "\n",
        "data_train = pd.read_csv(TRAIN_DATASET, header=None)\n",
        "data_test = pd.read_csv(TEST_DATASET, header=None)"
      ],
      "metadata": {
        "id": "WmV09uWKYsJ-",
        "colab": {
          "base_uri": "https://localhost:8080/"
        },
        "outputId": "8834479f-27d9-41b7-9abd-0d47e91b2d1f"
      },
      "execution_count": null,
      "outputs": [
        {
          "output_type": "stream",
          "name": "stderr",
          "text": [
            "C:\\Users\\beren\\AppData\\Local\\Temp\\ipykernel_16372\\3004897857.py:8: DtypeWarning: Columns (1,2,3,4,5,6,7,8,9,10,11,12,13,14,15,16,17,18,19,20,21,22,23,24,25,26,27,28,29,30,31,32,33,34,35,36,37,38,39,40,41,42,43,44,45,46,47,48,49,50,51) have mixed types. Specify dtype option on import or set low_memory=False.\n",
            "  data_train = pd.read_csv(TRAIN_DATASET, header=None)\n",
            "C:\\Users\\beren\\AppData\\Local\\Temp\\ipykernel_16372\\3004897857.py:9: DtypeWarning: Columns (1,2,3,4,5,6,7,8,9,10,11,12,13,14,15,16,17,18,19,20,21,22,23,24,25,26,27,28,29,30,31,32,33,34,35,36,37,38,39,40,41,42,43,44,45,46,47,48,49,50,51) have mixed types. Specify dtype option on import or set low_memory=False.\n",
            "  data_test = pd.read_csv(TEST_DATASET, header=None)\n"
          ]
        }
      ]
    },
    {
      "cell_type": "code",
      "source": [
        "data_train.replace(\"Normal\", 0, inplace=True)\n",
        "data_test.replace(\"Normal\", 0, inplace=True)\n",
        "data_test.replace(\"Attack\", 1, inplace=True)\n",
        "data_test.replace(\"A ttack\", 1, inplace=True)\n",
        "\n",
        "train = data_train.iloc[:, 1:].copy()\n",
        "train = train.iloc[:, :-1].copy()\n",
        "test = data_test.iloc[:, 1:].copy()\n",
        "test = test.iloc[:, :-1].copy()"
      ],
      "metadata": {
        "id": "vGpxnA-7jbpW"
      },
      "execution_count": null,
      "outputs": []
    },
    {
      "cell_type": "code",
      "source": [
        "true_anomalies = data_test[52].to_numpy()\n",
        "true_anomalies = np.delete(true_anomalies, 0)\n",
        "true_anomalies = true_anomalies.astype(int)"
      ],
      "metadata": {
        "id": "qQQagQao1DwB"
      },
      "execution_count": null,
      "outputs": []
    },
    {
      "cell_type": "code",
      "source": [
        "true_anomalies"
      ],
      "metadata": {
        "colab": {
          "base_uri": "https://localhost:8080/"
        },
        "id": "YuD3MT-J20jS",
        "outputId": "a13d0d5d-2640-497d-c8ad-6b430d41176c"
      },
      "execution_count": null,
      "outputs": [
        {
          "output_type": "execute_result",
          "data": {
            "text/plain": [
              "array([0, 0, 0, ..., 0, 0, 0])"
            ]
          },
          "metadata": {},
          "execution_count": 10
        }
      ]
    },
    {
      "cell_type": "code",
      "source": [
        "train"
      ],
      "metadata": {
        "id": "B90bIlxWYtiF",
        "colab": {
          "base_uri": "https://localhost:8080/",
          "height": 424
        },
        "outputId": "18b9475e-bfc3-4faf-8e59-1ab46b5ff95b"
      },
      "execution_count": null,
      "outputs": [
        {
          "output_type": "execute_result",
          "data": {
            "text/plain": [
              "              1         2      3     4     5         6         7         8   \\\n",
              "0         FIT101    LIT101  MV101  P101  P102    AIT201    AIT202    AIT203   \n",
              "1       2.470294  261.5804      2     2     1  244.3284   8.19008   306.101   \n",
              "2       2.457163  261.1879      2     2     1  244.3284   8.19008   306.101   \n",
              "3       2.439548  260.9131      2     2     1  244.3284   8.19008   306.101   \n",
              "4       2.428338   260.285      2     2     1  244.3284   8.19008   306.101   \n",
              "...          ...       ...    ...   ...   ...       ...       ...       ...   \n",
              "496796  2.460366   523.043      2     2     1  262.0161  8.396437  328.5055   \n",
              "496797  2.448836  522.9645      2     2     1  262.0161  8.396437  328.5055   \n",
              "496798  2.434744   522.886      2     2     1  262.0161  8.396437  328.6337   \n",
              "496799  2.428338  522.9252      2     2     1  262.0161  8.396437  328.6337   \n",
              "496800  2.427057  522.8467      2     2     1  262.0161  8.396437  328.6337   \n",
              "\n",
              "              9      10  ...        42    43    44        45        46  \\\n",
              "0         FIT201  MV201  ...    FIT504  P501  P502    PIT501    PIT502   \n",
              "1       2.471278      2  ...         0     1     1  10.02948         0   \n",
              "2       2.468587      2  ...         0     1     1  10.02948         0   \n",
              "3       2.467305      2  ...         0     1     1  10.02948         0   \n",
              "4       2.466536      2  ...         0     1     1  10.02948         0   \n",
              "...          ...    ...  ...       ...   ...   ...       ...       ...   \n",
              "496796  2.442316      2  ...  0.308619     2     1  250.8171  1.778105   \n",
              "496797  2.442316      2  ...  0.308619     2     1  250.8171  1.778105   \n",
              "496798  2.444879      2  ...  0.308619     2     1  250.8171  1.778105   \n",
              "496799  2.445391      2  ...  0.308619     2     1  250.8171  1.649953   \n",
              "496800  2.445391      2  ...  0.307786     2     1  250.8652  1.649953   \n",
              "\n",
              "              47           48    49    50    51  \n",
              "0         PIT503       FIT601  P601  P602  P603  \n",
              "1       4.277749  0.000256304     1     1     1  \n",
              "2       4.277749  0.000256304     1     1     1  \n",
              "3       4.277749  0.000256304     1     1     1  \n",
              "4       4.277749  0.000256304     1     1     1  \n",
              "...          ...          ...   ...   ...   ...  \n",
              "496796  189.8552     0.000128     1     1     1  \n",
              "496797  189.5027     0.000128     1     1     1  \n",
              "496798  189.5027     0.000128     1     1     1  \n",
              "496799  189.5027     0.000128     1     1     1  \n",
              "496800  189.5988     0.000128     1     1     1  \n",
              "\n",
              "[496801 rows x 51 columns]"
            ],
            "text/html": [
              "<div>\n",
              "<style scoped>\n",
              "    .dataframe tbody tr th:only-of-type {\n",
              "        vertical-align: middle;\n",
              "    }\n",
              "\n",
              "    .dataframe tbody tr th {\n",
              "        vertical-align: top;\n",
              "    }\n",
              "\n",
              "    .dataframe thead th {\n",
              "        text-align: right;\n",
              "    }\n",
              "</style>\n",
              "<table border=\"1\" class=\"dataframe\">\n",
              "  <thead>\n",
              "    <tr style=\"text-align: right;\">\n",
              "      <th></th>\n",
              "      <th>1</th>\n",
              "      <th>2</th>\n",
              "      <th>3</th>\n",
              "      <th>4</th>\n",
              "      <th>5</th>\n",
              "      <th>6</th>\n",
              "      <th>7</th>\n",
              "      <th>8</th>\n",
              "      <th>9</th>\n",
              "      <th>10</th>\n",
              "      <th>...</th>\n",
              "      <th>42</th>\n",
              "      <th>43</th>\n",
              "      <th>44</th>\n",
              "      <th>45</th>\n",
              "      <th>46</th>\n",
              "      <th>47</th>\n",
              "      <th>48</th>\n",
              "      <th>49</th>\n",
              "      <th>50</th>\n",
              "      <th>51</th>\n",
              "    </tr>\n",
              "  </thead>\n",
              "  <tbody>\n",
              "    <tr>\n",
              "      <th>0</th>\n",
              "      <td>FIT101</td>\n",
              "      <td>LIT101</td>\n",
              "      <td>MV101</td>\n",
              "      <td>P101</td>\n",
              "      <td>P102</td>\n",
              "      <td>AIT201</td>\n",
              "      <td>AIT202</td>\n",
              "      <td>AIT203</td>\n",
              "      <td>FIT201</td>\n",
              "      <td>MV201</td>\n",
              "      <td>...</td>\n",
              "      <td>FIT504</td>\n",
              "      <td>P501</td>\n",
              "      <td>P502</td>\n",
              "      <td>PIT501</td>\n",
              "      <td>PIT502</td>\n",
              "      <td>PIT503</td>\n",
              "      <td>FIT601</td>\n",
              "      <td>P601</td>\n",
              "      <td>P602</td>\n",
              "      <td>P603</td>\n",
              "    </tr>\n",
              "    <tr>\n",
              "      <th>1</th>\n",
              "      <td>2.470294</td>\n",
              "      <td>261.5804</td>\n",
              "      <td>2</td>\n",
              "      <td>2</td>\n",
              "      <td>1</td>\n",
              "      <td>244.3284</td>\n",
              "      <td>8.19008</td>\n",
              "      <td>306.101</td>\n",
              "      <td>2.471278</td>\n",
              "      <td>2</td>\n",
              "      <td>...</td>\n",
              "      <td>0</td>\n",
              "      <td>1</td>\n",
              "      <td>1</td>\n",
              "      <td>10.02948</td>\n",
              "      <td>0</td>\n",
              "      <td>4.277749</td>\n",
              "      <td>0.000256304</td>\n",
              "      <td>1</td>\n",
              "      <td>1</td>\n",
              "      <td>1</td>\n",
              "    </tr>\n",
              "    <tr>\n",
              "      <th>2</th>\n",
              "      <td>2.457163</td>\n",
              "      <td>261.1879</td>\n",
              "      <td>2</td>\n",
              "      <td>2</td>\n",
              "      <td>1</td>\n",
              "      <td>244.3284</td>\n",
              "      <td>8.19008</td>\n",
              "      <td>306.101</td>\n",
              "      <td>2.468587</td>\n",
              "      <td>2</td>\n",
              "      <td>...</td>\n",
              "      <td>0</td>\n",
              "      <td>1</td>\n",
              "      <td>1</td>\n",
              "      <td>10.02948</td>\n",
              "      <td>0</td>\n",
              "      <td>4.277749</td>\n",
              "      <td>0.000256304</td>\n",
              "      <td>1</td>\n",
              "      <td>1</td>\n",
              "      <td>1</td>\n",
              "    </tr>\n",
              "    <tr>\n",
              "      <th>3</th>\n",
              "      <td>2.439548</td>\n",
              "      <td>260.9131</td>\n",
              "      <td>2</td>\n",
              "      <td>2</td>\n",
              "      <td>1</td>\n",
              "      <td>244.3284</td>\n",
              "      <td>8.19008</td>\n",
              "      <td>306.101</td>\n",
              "      <td>2.467305</td>\n",
              "      <td>2</td>\n",
              "      <td>...</td>\n",
              "      <td>0</td>\n",
              "      <td>1</td>\n",
              "      <td>1</td>\n",
              "      <td>10.02948</td>\n",
              "      <td>0</td>\n",
              "      <td>4.277749</td>\n",
              "      <td>0.000256304</td>\n",
              "      <td>1</td>\n",
              "      <td>1</td>\n",
              "      <td>1</td>\n",
              "    </tr>\n",
              "    <tr>\n",
              "      <th>4</th>\n",
              "      <td>2.428338</td>\n",
              "      <td>260.285</td>\n",
              "      <td>2</td>\n",
              "      <td>2</td>\n",
              "      <td>1</td>\n",
              "      <td>244.3284</td>\n",
              "      <td>8.19008</td>\n",
              "      <td>306.101</td>\n",
              "      <td>2.466536</td>\n",
              "      <td>2</td>\n",
              "      <td>...</td>\n",
              "      <td>0</td>\n",
              "      <td>1</td>\n",
              "      <td>1</td>\n",
              "      <td>10.02948</td>\n",
              "      <td>0</td>\n",
              "      <td>4.277749</td>\n",
              "      <td>0.000256304</td>\n",
              "      <td>1</td>\n",
              "      <td>1</td>\n",
              "      <td>1</td>\n",
              "    </tr>\n",
              "    <tr>\n",
              "      <th>...</th>\n",
              "      <td>...</td>\n",
              "      <td>...</td>\n",
              "      <td>...</td>\n",
              "      <td>...</td>\n",
              "      <td>...</td>\n",
              "      <td>...</td>\n",
              "      <td>...</td>\n",
              "      <td>...</td>\n",
              "      <td>...</td>\n",
              "      <td>...</td>\n",
              "      <td>...</td>\n",
              "      <td>...</td>\n",
              "      <td>...</td>\n",
              "      <td>...</td>\n",
              "      <td>...</td>\n",
              "      <td>...</td>\n",
              "      <td>...</td>\n",
              "      <td>...</td>\n",
              "      <td>...</td>\n",
              "      <td>...</td>\n",
              "      <td>...</td>\n",
              "    </tr>\n",
              "    <tr>\n",
              "      <th>496796</th>\n",
              "      <td>2.460366</td>\n",
              "      <td>523.043</td>\n",
              "      <td>2</td>\n",
              "      <td>2</td>\n",
              "      <td>1</td>\n",
              "      <td>262.0161</td>\n",
              "      <td>8.396437</td>\n",
              "      <td>328.5055</td>\n",
              "      <td>2.442316</td>\n",
              "      <td>2</td>\n",
              "      <td>...</td>\n",
              "      <td>0.308619</td>\n",
              "      <td>2</td>\n",
              "      <td>1</td>\n",
              "      <td>250.8171</td>\n",
              "      <td>1.778105</td>\n",
              "      <td>189.8552</td>\n",
              "      <td>0.000128</td>\n",
              "      <td>1</td>\n",
              "      <td>1</td>\n",
              "      <td>1</td>\n",
              "    </tr>\n",
              "    <tr>\n",
              "      <th>496797</th>\n",
              "      <td>2.448836</td>\n",
              "      <td>522.9645</td>\n",
              "      <td>2</td>\n",
              "      <td>2</td>\n",
              "      <td>1</td>\n",
              "      <td>262.0161</td>\n",
              "      <td>8.396437</td>\n",
              "      <td>328.5055</td>\n",
              "      <td>2.442316</td>\n",
              "      <td>2</td>\n",
              "      <td>...</td>\n",
              "      <td>0.308619</td>\n",
              "      <td>2</td>\n",
              "      <td>1</td>\n",
              "      <td>250.8171</td>\n",
              "      <td>1.778105</td>\n",
              "      <td>189.5027</td>\n",
              "      <td>0.000128</td>\n",
              "      <td>1</td>\n",
              "      <td>1</td>\n",
              "      <td>1</td>\n",
              "    </tr>\n",
              "    <tr>\n",
              "      <th>496798</th>\n",
              "      <td>2.434744</td>\n",
              "      <td>522.886</td>\n",
              "      <td>2</td>\n",
              "      <td>2</td>\n",
              "      <td>1</td>\n",
              "      <td>262.0161</td>\n",
              "      <td>8.396437</td>\n",
              "      <td>328.6337</td>\n",
              "      <td>2.444879</td>\n",
              "      <td>2</td>\n",
              "      <td>...</td>\n",
              "      <td>0.308619</td>\n",
              "      <td>2</td>\n",
              "      <td>1</td>\n",
              "      <td>250.8171</td>\n",
              "      <td>1.778105</td>\n",
              "      <td>189.5027</td>\n",
              "      <td>0.000128</td>\n",
              "      <td>1</td>\n",
              "      <td>1</td>\n",
              "      <td>1</td>\n",
              "    </tr>\n",
              "    <tr>\n",
              "      <th>496799</th>\n",
              "      <td>2.428338</td>\n",
              "      <td>522.9252</td>\n",
              "      <td>2</td>\n",
              "      <td>2</td>\n",
              "      <td>1</td>\n",
              "      <td>262.0161</td>\n",
              "      <td>8.396437</td>\n",
              "      <td>328.6337</td>\n",
              "      <td>2.445391</td>\n",
              "      <td>2</td>\n",
              "      <td>...</td>\n",
              "      <td>0.308619</td>\n",
              "      <td>2</td>\n",
              "      <td>1</td>\n",
              "      <td>250.8171</td>\n",
              "      <td>1.649953</td>\n",
              "      <td>189.5027</td>\n",
              "      <td>0.000128</td>\n",
              "      <td>1</td>\n",
              "      <td>1</td>\n",
              "      <td>1</td>\n",
              "    </tr>\n",
              "    <tr>\n",
              "      <th>496800</th>\n",
              "      <td>2.427057</td>\n",
              "      <td>522.8467</td>\n",
              "      <td>2</td>\n",
              "      <td>2</td>\n",
              "      <td>1</td>\n",
              "      <td>262.0161</td>\n",
              "      <td>8.396437</td>\n",
              "      <td>328.6337</td>\n",
              "      <td>2.445391</td>\n",
              "      <td>2</td>\n",
              "      <td>...</td>\n",
              "      <td>0.307786</td>\n",
              "      <td>2</td>\n",
              "      <td>1</td>\n",
              "      <td>250.8652</td>\n",
              "      <td>1.649953</td>\n",
              "      <td>189.5988</td>\n",
              "      <td>0.000128</td>\n",
              "      <td>1</td>\n",
              "      <td>1</td>\n",
              "      <td>1</td>\n",
              "    </tr>\n",
              "  </tbody>\n",
              "</table>\n",
              "<p>496801 rows × 51 columns</p>\n",
              "</div>"
            ]
          },
          "metadata": {},
          "execution_count": 11
        }
      ]
    },
    {
      "cell_type": "code",
      "source": [
        "test"
      ],
      "metadata": {
        "colab": {
          "base_uri": "https://localhost:8080/",
          "height": 424
        },
        "id": "uVTS3_pNf_xc",
        "outputId": "c797d185-2fd9-4de8-f2c6-1ba1a6334abc"
      },
      "execution_count": null,
      "outputs": [
        {
          "output_type": "execute_result",
          "data": {
            "text/plain": [
              "              1         2       3     4     5         6         7         8   \\\n",
              "0         FIT101    LIT101   MV101  P101  P102    AIT201    AIT202    AIT203   \n",
              "1       2.427057  522.8467       2     2     1  262.0161  8.396437  328.6337   \n",
              "2       2.446274   522.886       2     2     1  262.0161  8.396437  328.6337   \n",
              "3       2.489191  522.8467       2     2     1  262.0161  8.394514  328.6337   \n",
              "4        2.53435  522.9645       2     2     1  262.0161  8.394514  328.6337   \n",
              "...          ...       ...     ...   ...   ...       ...       ...       ...   \n",
              "449915  2.559972  519.5495       2     2     1  168.0979  8.638683  301.9226   \n",
              "449916  2.549082  520.4131       2     2     1  168.0979  8.638683  301.9226   \n",
              "449917  2.531467  520.6878       2     2     1  168.0979  8.638683  301.9226   \n",
              "449918  2.521218  520.7271       2     2     1  168.0979  8.638683  301.9226   \n",
              "449919  2.501681  521.1196       2     2     1  168.0979  8.638683  301.9226   \n",
              "\n",
              "              9       10  ...         42    43    44        45        46  \\\n",
              "0         FIT201   MV201  ...     FIT504  P501  P502    PIT501    PIT502   \n",
              "1       2.445391       2  ...  0.3077859     2     1  250.8652  1.649953   \n",
              "2       2.445391       2  ...  0.3077859     2     1  250.8652  1.649953   \n",
              "3       2.442316       2  ...  0.3086186     2     1  250.8812  1.649953   \n",
              "4       2.442316       2  ...  0.3086186     2     1  250.8812  1.649953   \n",
              "...          ...     ...  ...        ...   ...   ...       ...       ...   \n",
              "449915  2.459488       2  ...   0.306569     2     1  251.1535  0.865024   \n",
              "449916  2.459488       2  ...   0.306569     2     1  251.0734  0.865024   \n",
              "449917  2.460129       2  ...   0.306569     2     1  251.0734  0.865024   \n",
              "449918  2.460129       2  ...   0.307978     2     1  251.0734  0.865024   \n",
              "449919  2.458206       2  ...   0.308298     2     1  251.0734  0.865024   \n",
              "\n",
              "              47           48    49    50    51  \n",
              "0         PIT503       FIT601  P601  P602  P603  \n",
              "1       189.5988  0.000128152     1     1     1  \n",
              "2       189.6789  0.000128152     1     1     1  \n",
              "3       189.6789  0.000128152     1     1     1  \n",
              "4       189.6148  0.000128152     1     1     1  \n",
              "...          ...          ...   ...   ...   ...  \n",
              "449915   189.022          0.0     1     1     1  \n",
              "449916  188.9259          0.0     1     1     1  \n",
              "449917  188.9259          0.0     1     1     1  \n",
              "449918  188.9259          0.0     1     1     1  \n",
              "449919  188.9259          0.0     1     1     1  \n",
              "\n",
              "[449920 rows x 51 columns]"
            ],
            "text/html": [
              "<div>\n",
              "<style scoped>\n",
              "    .dataframe tbody tr th:only-of-type {\n",
              "        vertical-align: middle;\n",
              "    }\n",
              "\n",
              "    .dataframe tbody tr th {\n",
              "        vertical-align: top;\n",
              "    }\n",
              "\n",
              "    .dataframe thead th {\n",
              "        text-align: right;\n",
              "    }\n",
              "</style>\n",
              "<table border=\"1\" class=\"dataframe\">\n",
              "  <thead>\n",
              "    <tr style=\"text-align: right;\">\n",
              "      <th></th>\n",
              "      <th>1</th>\n",
              "      <th>2</th>\n",
              "      <th>3</th>\n",
              "      <th>4</th>\n",
              "      <th>5</th>\n",
              "      <th>6</th>\n",
              "      <th>7</th>\n",
              "      <th>8</th>\n",
              "      <th>9</th>\n",
              "      <th>10</th>\n",
              "      <th>...</th>\n",
              "      <th>42</th>\n",
              "      <th>43</th>\n",
              "      <th>44</th>\n",
              "      <th>45</th>\n",
              "      <th>46</th>\n",
              "      <th>47</th>\n",
              "      <th>48</th>\n",
              "      <th>49</th>\n",
              "      <th>50</th>\n",
              "      <th>51</th>\n",
              "    </tr>\n",
              "  </thead>\n",
              "  <tbody>\n",
              "    <tr>\n",
              "      <th>0</th>\n",
              "      <td>FIT101</td>\n",
              "      <td>LIT101</td>\n",
              "      <td>MV101</td>\n",
              "      <td>P101</td>\n",
              "      <td>P102</td>\n",
              "      <td>AIT201</td>\n",
              "      <td>AIT202</td>\n",
              "      <td>AIT203</td>\n",
              "      <td>FIT201</td>\n",
              "      <td>MV201</td>\n",
              "      <td>...</td>\n",
              "      <td>FIT504</td>\n",
              "      <td>P501</td>\n",
              "      <td>P502</td>\n",
              "      <td>PIT501</td>\n",
              "      <td>PIT502</td>\n",
              "      <td>PIT503</td>\n",
              "      <td>FIT601</td>\n",
              "      <td>P601</td>\n",
              "      <td>P602</td>\n",
              "      <td>P603</td>\n",
              "    </tr>\n",
              "    <tr>\n",
              "      <th>1</th>\n",
              "      <td>2.427057</td>\n",
              "      <td>522.8467</td>\n",
              "      <td>2</td>\n",
              "      <td>2</td>\n",
              "      <td>1</td>\n",
              "      <td>262.0161</td>\n",
              "      <td>8.396437</td>\n",
              "      <td>328.6337</td>\n",
              "      <td>2.445391</td>\n",
              "      <td>2</td>\n",
              "      <td>...</td>\n",
              "      <td>0.3077859</td>\n",
              "      <td>2</td>\n",
              "      <td>1</td>\n",
              "      <td>250.8652</td>\n",
              "      <td>1.649953</td>\n",
              "      <td>189.5988</td>\n",
              "      <td>0.000128152</td>\n",
              "      <td>1</td>\n",
              "      <td>1</td>\n",
              "      <td>1</td>\n",
              "    </tr>\n",
              "    <tr>\n",
              "      <th>2</th>\n",
              "      <td>2.446274</td>\n",
              "      <td>522.886</td>\n",
              "      <td>2</td>\n",
              "      <td>2</td>\n",
              "      <td>1</td>\n",
              "      <td>262.0161</td>\n",
              "      <td>8.396437</td>\n",
              "      <td>328.6337</td>\n",
              "      <td>2.445391</td>\n",
              "      <td>2</td>\n",
              "      <td>...</td>\n",
              "      <td>0.3077859</td>\n",
              "      <td>2</td>\n",
              "      <td>1</td>\n",
              "      <td>250.8652</td>\n",
              "      <td>1.649953</td>\n",
              "      <td>189.6789</td>\n",
              "      <td>0.000128152</td>\n",
              "      <td>1</td>\n",
              "      <td>1</td>\n",
              "      <td>1</td>\n",
              "    </tr>\n",
              "    <tr>\n",
              "      <th>3</th>\n",
              "      <td>2.489191</td>\n",
              "      <td>522.8467</td>\n",
              "      <td>2</td>\n",
              "      <td>2</td>\n",
              "      <td>1</td>\n",
              "      <td>262.0161</td>\n",
              "      <td>8.394514</td>\n",
              "      <td>328.6337</td>\n",
              "      <td>2.442316</td>\n",
              "      <td>2</td>\n",
              "      <td>...</td>\n",
              "      <td>0.3086186</td>\n",
              "      <td>2</td>\n",
              "      <td>1</td>\n",
              "      <td>250.8812</td>\n",
              "      <td>1.649953</td>\n",
              "      <td>189.6789</td>\n",
              "      <td>0.000128152</td>\n",
              "      <td>1</td>\n",
              "      <td>1</td>\n",
              "      <td>1</td>\n",
              "    </tr>\n",
              "    <tr>\n",
              "      <th>4</th>\n",
              "      <td>2.53435</td>\n",
              "      <td>522.9645</td>\n",
              "      <td>2</td>\n",
              "      <td>2</td>\n",
              "      <td>1</td>\n",
              "      <td>262.0161</td>\n",
              "      <td>8.394514</td>\n",
              "      <td>328.6337</td>\n",
              "      <td>2.442316</td>\n",
              "      <td>2</td>\n",
              "      <td>...</td>\n",
              "      <td>0.3086186</td>\n",
              "      <td>2</td>\n",
              "      <td>1</td>\n",
              "      <td>250.8812</td>\n",
              "      <td>1.649953</td>\n",
              "      <td>189.6148</td>\n",
              "      <td>0.000128152</td>\n",
              "      <td>1</td>\n",
              "      <td>1</td>\n",
              "      <td>1</td>\n",
              "    </tr>\n",
              "    <tr>\n",
              "      <th>...</th>\n",
              "      <td>...</td>\n",
              "      <td>...</td>\n",
              "      <td>...</td>\n",
              "      <td>...</td>\n",
              "      <td>...</td>\n",
              "      <td>...</td>\n",
              "      <td>...</td>\n",
              "      <td>...</td>\n",
              "      <td>...</td>\n",
              "      <td>...</td>\n",
              "      <td>...</td>\n",
              "      <td>...</td>\n",
              "      <td>...</td>\n",
              "      <td>...</td>\n",
              "      <td>...</td>\n",
              "      <td>...</td>\n",
              "      <td>...</td>\n",
              "      <td>...</td>\n",
              "      <td>...</td>\n",
              "      <td>...</td>\n",
              "      <td>...</td>\n",
              "    </tr>\n",
              "    <tr>\n",
              "      <th>449915</th>\n",
              "      <td>2.559972</td>\n",
              "      <td>519.5495</td>\n",
              "      <td>2</td>\n",
              "      <td>2</td>\n",
              "      <td>1</td>\n",
              "      <td>168.0979</td>\n",
              "      <td>8.638683</td>\n",
              "      <td>301.9226</td>\n",
              "      <td>2.459488</td>\n",
              "      <td>2</td>\n",
              "      <td>...</td>\n",
              "      <td>0.306569</td>\n",
              "      <td>2</td>\n",
              "      <td>1</td>\n",
              "      <td>251.1535</td>\n",
              "      <td>0.865024</td>\n",
              "      <td>189.022</td>\n",
              "      <td>0.0</td>\n",
              "      <td>1</td>\n",
              "      <td>1</td>\n",
              "      <td>1</td>\n",
              "    </tr>\n",
              "    <tr>\n",
              "      <th>449916</th>\n",
              "      <td>2.549082</td>\n",
              "      <td>520.4131</td>\n",
              "      <td>2</td>\n",
              "      <td>2</td>\n",
              "      <td>1</td>\n",
              "      <td>168.0979</td>\n",
              "      <td>8.638683</td>\n",
              "      <td>301.9226</td>\n",
              "      <td>2.459488</td>\n",
              "      <td>2</td>\n",
              "      <td>...</td>\n",
              "      <td>0.306569</td>\n",
              "      <td>2</td>\n",
              "      <td>1</td>\n",
              "      <td>251.0734</td>\n",
              "      <td>0.865024</td>\n",
              "      <td>188.9259</td>\n",
              "      <td>0.0</td>\n",
              "      <td>1</td>\n",
              "      <td>1</td>\n",
              "      <td>1</td>\n",
              "    </tr>\n",
              "    <tr>\n",
              "      <th>449917</th>\n",
              "      <td>2.531467</td>\n",
              "      <td>520.6878</td>\n",
              "      <td>2</td>\n",
              "      <td>2</td>\n",
              "      <td>1</td>\n",
              "      <td>168.0979</td>\n",
              "      <td>8.638683</td>\n",
              "      <td>301.9226</td>\n",
              "      <td>2.460129</td>\n",
              "      <td>2</td>\n",
              "      <td>...</td>\n",
              "      <td>0.306569</td>\n",
              "      <td>2</td>\n",
              "      <td>1</td>\n",
              "      <td>251.0734</td>\n",
              "      <td>0.865024</td>\n",
              "      <td>188.9259</td>\n",
              "      <td>0.0</td>\n",
              "      <td>1</td>\n",
              "      <td>1</td>\n",
              "      <td>1</td>\n",
              "    </tr>\n",
              "    <tr>\n",
              "      <th>449918</th>\n",
              "      <td>2.521218</td>\n",
              "      <td>520.7271</td>\n",
              "      <td>2</td>\n",
              "      <td>2</td>\n",
              "      <td>1</td>\n",
              "      <td>168.0979</td>\n",
              "      <td>8.638683</td>\n",
              "      <td>301.9226</td>\n",
              "      <td>2.460129</td>\n",
              "      <td>2</td>\n",
              "      <td>...</td>\n",
              "      <td>0.307978</td>\n",
              "      <td>2</td>\n",
              "      <td>1</td>\n",
              "      <td>251.0734</td>\n",
              "      <td>0.865024</td>\n",
              "      <td>188.9259</td>\n",
              "      <td>0.0</td>\n",
              "      <td>1</td>\n",
              "      <td>1</td>\n",
              "      <td>1</td>\n",
              "    </tr>\n",
              "    <tr>\n",
              "      <th>449919</th>\n",
              "      <td>2.501681</td>\n",
              "      <td>521.1196</td>\n",
              "      <td>2</td>\n",
              "      <td>2</td>\n",
              "      <td>1</td>\n",
              "      <td>168.0979</td>\n",
              "      <td>8.638683</td>\n",
              "      <td>301.9226</td>\n",
              "      <td>2.458206</td>\n",
              "      <td>2</td>\n",
              "      <td>...</td>\n",
              "      <td>0.308298</td>\n",
              "      <td>2</td>\n",
              "      <td>1</td>\n",
              "      <td>251.0734</td>\n",
              "      <td>0.865024</td>\n",
              "      <td>188.9259</td>\n",
              "      <td>0.0</td>\n",
              "      <td>1</td>\n",
              "      <td>1</td>\n",
              "      <td>1</td>\n",
              "    </tr>\n",
              "  </tbody>\n",
              "</table>\n",
              "<p>449920 rows × 51 columns</p>\n",
              "</div>"
            ]
          },
          "metadata": {},
          "execution_count": 12
        }
      ]
    },
    {
      "cell_type": "markdown",
      "source": [
        "## Preprocess the Dataset"
      ],
      "metadata": {
        "id": "gKiXMEKYYxC-"
      }
    },
    {
      "cell_type": "code",
      "source": [
        "# remove headers\n",
        "if train.iloc[0].dtype == 'object':\n",
        "    train = train[1:].copy()\n",
        "    test = test[1:].copy()\n",
        "\n",
        "# convert all columns to numeric\n",
        "train = train.apply(pd.to_numeric, errors='coerce')\n",
        "test = test.apply(pd.to_numeric, errors='coerce')\n",
        "\n",
        "# interpolate/fill NaNs after conversion if necessary\n",
        "train.interpolate(inplace=True)\n",
        "train.bfill(inplace=True)\n",
        "test.interpolate(inplace=True)\n",
        "test.bfill(inplace=True)\n",
        "\n",
        "# calculate variance, crop columns with variance close to zero.\n",
        "variance_threshold = 1e-6\n",
        "variances = train.var()\n",
        "low_variance_cols = variances[variances < variance_threshold].index\n",
        "\n",
        "print(f\"Columns with very low variance: {list(low_variance_cols)}\")\n",
        "\n",
        "# drop low variance columns\n",
        "train_filtered = train.drop(columns=low_variance_cols)\n",
        "test_filtered = test.drop(columns=low_variance_cols)\n",
        "\n",
        "print(f\"Original number of features: {train.shape[1]}\")\n",
        "print(f\"Number of features after removing low variance columns: {train_filtered.shape[1]}\")\n",
        "\n",
        "# egenerate the tensors and dataloaders with the filtered data\n",
        "train_tensor = train_filtered.values\n",
        "test_tensor = test_filtered.values\n",
        "\n",
        "sequence_length = 30\n",
        "sequences = []\n",
        "for i in range(train_tensor.shape[0] - sequence_length + 1):\n",
        "  sequences.append(train_tensor[i:i + sequence_length])\n",
        "\n",
        "train_data, val_data = train_test_split(sequences, test_size=0.3, random_state=42, shuffle=False) # 70% train, 30% temp\n",
        "\n",
        "test_sequences = []\n",
        "for i in range(test_tensor.shape[0] - sequence_length + 1):\n",
        "  test_sequences.append(test_tensor[i:i + sequence_length])\n",
        "\n",
        "batch_size = 32\n",
        "train_loader = DataLoader(dataset=train_data, batch_size=batch_size, shuffle=True)\n",
        "val_loader = DataLoader(dataset=val_data, batch_size=batch_size, shuffle=False)\n",
        "test_loader = DataLoader(dataset=test_sequences, batch_size=batch_size, shuffle=False)\n",
        "device = torch.device(\"cuda\" if torch.cuda.is_available() else \"cpu\")"
      ],
      "metadata": {
        "colab": {
          "base_uri": "https://localhost:8080/"
        },
        "id": "kiXvAxNRk5on",
        "outputId": "a8e5dd0e-593c-41a5-ee59-491ab37f8a72"
      },
      "execution_count": null,
      "outputs": [
        {
          "output_type": "stream",
          "name": "stdout",
          "text": [
            "Columns with very low variance: [5, 11, 12, 14, 16, 30, 32, 33, 44, 49, 51]\n",
            "Original number of features: 51\n",
            "Number of features after removing low variance columns: 40\n"
          ]
        }
      ]
    },
    {
      "cell_type": "code",
      "source": [
        "sequences[0].shape"
      ],
      "metadata": {
        "id": "-yjnxNiOY1nJ",
        "colab": {
          "base_uri": "https://localhost:8080/"
        },
        "outputId": "59c7df16-eb7e-41ef-fa49-f4b642570203"
      },
      "execution_count": null,
      "outputs": [
        {
          "output_type": "execute_result",
          "data": {
            "text/plain": [
              "(30, 40)"
            ]
          },
          "metadata": {},
          "execution_count": 14
        }
      ]
    },
    {
      "cell_type": "markdown",
      "source": [
        "# Define the Networks"
      ],
      "metadata": {
        "id": "db2NTe4nY4-h"
      }
    },
    {
      "cell_type": "code",
      "source": [
        "input_dim = train_filtered.shape[1]\n",
        "hidden_dim = 128\n",
        "latent_dim = 32"
      ],
      "metadata": {
        "id": "QWBtLBUmw0rL"
      },
      "execution_count": null,
      "outputs": []
    },
    {
      "cell_type": "code",
      "source": [
        "def save_model(model_name, model, input_dim, latent_dim, hidden_dim):\n",
        "    model_state = {\n",
        "        'input_dim':input_dim,\n",
        "        'latent_dim':latent_dim,\n",
        "        'hidden_dim':hidden_dim,\n",
        "        'state_dict':model.state_dict()\n",
        "    }\n",
        "    torch.save(model_state, f'drive/MyDrive/Colab Notebooks/ELTE/DSLAB/{model_name}_swat.pth')"
      ],
      "metadata": {
        "id": "RHrbCKugwvVS"
      },
      "execution_count": null,
      "outputs": []
    },
    {
      "cell_type": "markdown",
      "source": [
        "## AutoEncoder"
      ],
      "metadata": {
        "id": "AQ-8xmXtY7af"
      }
    },
    {
      "cell_type": "code",
      "source": [
        "class FeedforwardEncoder(nn.Module):\n",
        "    def __init__(self, input_dim, sequence_length, hidden_dim, latent_dim):\n",
        "        super(FeedforwardEncoder, self).__init__()\n",
        "        self.flatten_dim = input_dim * sequence_length\n",
        "        self.encoder = nn.Sequential(\n",
        "            nn.Linear(self.flatten_dim, hidden_dim),\n",
        "            nn.ReLU(),\n",
        "            nn.Linear(hidden_dim, latent_dim)\n",
        "        )\n",
        "\n",
        "    def forward(self, x):\n",
        "        x = x.view(x.size(0), -1)  # Flatten: (batch_size, sequence_length * input_dim)\n",
        "        z = self.encoder(x)\n",
        "        return z\n",
        "\n",
        "class FeedforwardDecoder(nn.Module):\n",
        "    def __init__(self, latent_dim, hidden_dim, output_dim, sequence_length):\n",
        "        super(FeedforwardDecoder, self).__init__()\n",
        "        self.output_dim = output_dim\n",
        "        self.sequence_length = sequence_length\n",
        "        self.decoder = nn.Sequential(\n",
        "            nn.Linear(latent_dim, hidden_dim),\n",
        "            nn.ReLU(),\n",
        "            nn.Linear(hidden_dim, output_dim * sequence_length)\n",
        "        )\n",
        "\n",
        "    def forward(self, z):\n",
        "        x_recon = self.decoder(z)\n",
        "        return x_recon.view(z.size(0), self.sequence_length, self.output_dim)\n",
        "\n",
        "class AE(nn.Module):\n",
        "    def __init__(self, input_dim, sequence_length, hidden_dim, latent_dim, device='cpu'):\n",
        "        super(AE, self).__init__()\n",
        "        self.encoder = FeedforwardEncoder(input_dim, sequence_length, hidden_dim, latent_dim).to(device)\n",
        "        self.decoder = FeedforwardDecoder(latent_dim, hidden_dim, input_dim, sequence_length).to(device)\n",
        "\n",
        "    def forward(self, x):\n",
        "        z = self.encoder(x)\n",
        "        x_recon = self.decoder(z)\n",
        "        return x_recon"
      ],
      "metadata": {
        "id": "rlMMyXqlY-OP"
      },
      "execution_count": null,
      "outputs": []
    },
    {
      "cell_type": "code",
      "source": [
        "def loss_function_ae(x, x_hat):\n",
        "    return nn.functional.mse_loss(x_hat, x, reduction='sum')"
      ],
      "metadata": {
        "id": "HXmz9M74wqCf"
      },
      "execution_count": null,
      "outputs": []
    },
    {
      "cell_type": "code",
      "source": [
        "model_ae = AE(input_dim=input_dim,\n",
        "                hidden_dim=hidden_dim,\n",
        "                latent_dim=latent_dim,\n",
        "                sequence_length=sequence_length,\n",
        "                device=device).to(device)\n",
        "optimizer_ae = Adam(model_ae.parameters(), lr=1e-3)\n",
        "scheduler_ae = ReduceLROnPlateau(optimizer_ae, 'min', patience=5, factor=0.1)"
      ],
      "metadata": {
        "colab": {
          "base_uri": "https://localhost:8080/"
        },
        "id": "KZT7Zk-3whgH",
        "outputId": "11b802f7-9fab-4ecd-b6ed-61ebc933fb1c"
      },
      "execution_count": null,
      "outputs": [
        {
          "output_type": "stream",
          "name": "stderr",
          "text": [
            "/usr/local/lib/python3.11/dist-packages/torch/optim/lr_scheduler.py:62: UserWarning: The verbose parameter is deprecated. Please use get_last_lr() to access the learning rate.\n",
            "  warnings.warn(\n"
          ]
        }
      ]
    },
    {
      "cell_type": "markdown",
      "source": [
        "## LSTM AutoEncoder"
      ],
      "metadata": {
        "id": "hLDbcntSxFKF"
      }
    },
    {
      "cell_type": "code",
      "source": [
        "class LSTMEncoder(nn.Module):\n",
        "    def __init__(self, input_dim, hidden_dim, latent_dim, num_layers=1):\n",
        "        super(LSTMEncoder, self).__init__()\n",
        "        self.lstm = nn.LSTM(input_dim, hidden_dim, num_layers=num_layers, batch_first=True)\n",
        "        self.fc = nn.Linear(hidden_dim, latent_dim)\n",
        "\n",
        "    def forward(self, x):\n",
        "        _, (h_n, _) = self.lstm(x)\n",
        "        h = h_n[-1]  # Take last layer's hidden state\n",
        "        z = self.fc(h)\n",
        "        return z\n",
        "\n",
        "class LSTMDecoder(nn.Module):\n",
        "    def __init__(self, latent_dim, hidden_dim, output_dim, sequence_length, num_layers=1):\n",
        "        super(LSTMDecoder, self).__init__()\n",
        "        self.sequence_length = sequence_length\n",
        "        self.latent_to_hidden = nn.Linear(latent_dim, hidden_dim)\n",
        "        self.lstm = nn.LSTM(hidden_dim, hidden_dim, num_layers=num_layers, batch_first=True)\n",
        "        self.output_layer = nn.Linear(hidden_dim, output_dim)\n",
        "\n",
        "    def forward(self, z):\n",
        "        hidden = self.latent_to_hidden(z).unsqueeze(1).repeat(1, self.sequence_length, 1)\n",
        "        out, _ = self.lstm(hidden)\n",
        "        return self.output_layer(out)\n",
        "\n",
        "\n",
        "class LSTMAE(nn.Module):\n",
        "    def __init__(self, input_dim, hidden_dim, latent_dim, sequence_length, num_layers=1, device='cpu'):\n",
        "        super(LSTMAE, self).__init__()\n",
        "        self.encoder = LSTMEncoder(input_dim, hidden_dim, latent_dim, num_layers).to(device)\n",
        "        self.decoder = LSTMDecoder(latent_dim, hidden_dim, input_dim, sequence_length, num_layers).to(device)\n",
        "\n",
        "    def forward(self, x):\n",
        "        z = self.encoder(x)\n",
        "        x_recon = self.decoder(z)\n",
        "        return x_recon"
      ],
      "metadata": {
        "id": "mC2FTiXM22xf"
      },
      "execution_count": null,
      "outputs": []
    },
    {
      "cell_type": "code",
      "source": [
        "def loss_function_lstm_ae(x, x_hat):\n",
        "    return nn.functional.mse_loss(x_hat, x, reduction='sum')"
      ],
      "metadata": {
        "id": "w3eGQEV422za"
      },
      "execution_count": null,
      "outputs": []
    },
    {
      "cell_type": "code",
      "source": [
        "model_lstm_ae = LSTMAE(input_dim=input_dim,\n",
        "                hidden_dim=hidden_dim,\n",
        "                latent_dim=latent_dim,\n",
        "                sequence_length=sequence_length,\n",
        "                num_layers=1,\n",
        "                device=device).to(device)\n",
        "optimizer_lstm_ae = Adam(model_lstm_ae.parameters(), lr=1e-3)\n",
        "scheduler_lstm_ae = ReduceLROnPlateau(optimizer_lstm_ae, 'min', patience=5, factor=0.1)"
      ],
      "metadata": {
        "id": "N2PkeD3e221c"
      },
      "execution_count": null,
      "outputs": []
    },
    {
      "cell_type": "markdown",
      "source": [
        "## LSTM Variational AutoEncoder"
      ],
      "metadata": {
        "id": "EBwVWm5zxKGz"
      }
    },
    {
      "cell_type": "code",
      "source": [
        "class LSTMEncoder(nn.Module):\n",
        "    def __init__(self, input_dim, hidden_dim, latent_dim, num_layers=1):\n",
        "        super(LSTMEncoder, self).__init__()\n",
        "        self.lstm = nn.LSTM(input_dim, hidden_dim, num_layers=num_layers, batch_first=True)\n",
        "        self.fc_mean = nn.Linear(hidden_dim, latent_dim)\n",
        "        self.fc_logvar = nn.Linear(hidden_dim, latent_dim)\n",
        "\n",
        "    def forward(self, x):\n",
        "        _, (h_n, _) = self.lstm(x)  # h_n: (num_layers, batch, hidden_dim)\n",
        "        h = h_n[-1]  # take the output of the last layer\n",
        "        return self.fc_mean(h), self.fc_logvar(h)\n",
        "\n",
        "\n",
        "class LSTMDecoder(nn.Module):\n",
        "    def __init__(self, latent_dim, hidden_dim, output_dim, sequence_length, num_layers=1):\n",
        "        super(LSTMDecoder, self).__init__()\n",
        "        self.sequence_length = sequence_length\n",
        "        self.latent_to_hidden = nn.Linear(latent_dim, hidden_dim)\n",
        "        self.lstm = nn.LSTM(hidden_dim, hidden_dim, num_layers=num_layers, batch_first=True)\n",
        "        self.output_layer = nn.Linear(hidden_dim, output_dim)\n",
        "\n",
        "    def forward(self, z):\n",
        "        # Repeat z for each timestep\n",
        "        hidden = self.latent_to_hidden(z).unsqueeze(1).repeat(1, self.sequence_length, 1)\n",
        "        out, _ = self.lstm(hidden)\n",
        "        return self.output_layer(out)\n",
        "\n",
        "\n",
        "class LSTMVAE(nn.Module):\n",
        "    def __init__(self, input_dim, hidden_dim, latent_dim, sequence_length, num_layers=1, device='cpu'):\n",
        "        super(LSTMVAE, self).__init__()\n",
        "        self.encoder = LSTMEncoder(input_dim, hidden_dim, latent_dim, num_layers).to(device)\n",
        "        self.decoder = LSTMDecoder(latent_dim, hidden_dim, input_dim, sequence_length, num_layers).to(device)\n",
        "\n",
        "    def reparameterize(self, mean, logvar):\n",
        "        std = torch.exp(0.5 * logvar)\n",
        "        eps = torch.randn_like(std)\n",
        "        return mean + eps * std\n",
        "\n",
        "    def forward(self, x):\n",
        "        mean, logvar = self.encoder(x)\n",
        "        z = self.reparameterize(mean, logvar)\n",
        "        x_recon = self.decoder(z)\n",
        "        return x_recon, mean, logvar"
      ],
      "metadata": {
        "id": "rk0prcNW3D2K"
      },
      "execution_count": null,
      "outputs": []
    },
    {
      "cell_type": "code",
      "source": [
        "def loss_function_lstm_vae(x, x_hat, mean, log_var):\n",
        "    reproduction_loss = nn.functional.mse_loss(x_hat, x, reduction='sum')\n",
        "    KLD = - 0.5 * torch.sum(1+ log_var - mean.pow(2) - log_var.exp())\n",
        "\n",
        "    return reproduction_loss + KLD"
      ],
      "metadata": {
        "id": "mhXR-zd43D4P"
      },
      "execution_count": null,
      "outputs": []
    },
    {
      "cell_type": "code",
      "source": [
        "model_lstm_vae = LSTMVAE(input_dim=input_dim,\n",
        "                hidden_dim=hidden_dim,\n",
        "                latent_dim=latent_dim,\n",
        "                sequence_length=sequence_length,\n",
        "                num_layers=1,\n",
        "                device=device).to(device)\n",
        "optimizer_lstm_vae = Adam(model_lstm_vae.parameters(), lr=1e-3)\n",
        "scheduler_lstm_vae = ReduceLROnPlateau(optimizer_lstm_vae, 'min', patience=5, factor=0.1)"
      ],
      "metadata": {
        "id": "PhiV3B9z3EHW"
      },
      "execution_count": null,
      "outputs": []
    },
    {
      "cell_type": "markdown",
      "source": [
        "# Train"
      ],
      "metadata": {
        "id": "pxHd5ffExMmv"
      }
    },
    {
      "cell_type": "code",
      "source": [
        "def train_model(model, train_loader, val_loader, optimizer, loss_fn, scheduler, variational=False, num_epochs=10, device='cpu'):\n",
        "    torch.cuda.empty_cache()\n",
        "    train_losses = []\n",
        "    val_losses = []\n",
        "\n",
        "    early_stop_tolerant_count = 0\n",
        "    early_stop_tolerant = 10\n",
        "    best_loss = float('inf')\n",
        "    best_model_wts = copy.deepcopy(model.state_dict())\n",
        "\n",
        "    for epoch in range(num_epochs):\n",
        "        train_loss = 0.0\n",
        "        model.train()\n",
        "        for batch in train_loader:\n",
        "            batch = torch.tensor(batch, dtype=torch.float32).to(device)\n",
        "\n",
        "            optimizer.zero_grad()\n",
        "\n",
        "            if variational:\n",
        "                recon_batch, mean, logvar = model(batch)\n",
        "                loss = loss_fn(recon_batch, batch, mean, logvar)\n",
        "            else:\n",
        "                recon_batch = model(batch)\n",
        "                loss = loss_fn(batch, recon_batch)\n",
        "\n",
        "            loss.backward()\n",
        "            optimizer.step()\n",
        "            train_loss += loss.item()\n",
        "\n",
        "        train_loss /= len(train_loader)\n",
        "        train_losses.append(train_loss)\n",
        "\n",
        "        # Validation\n",
        "        model.eval()\n",
        "        valid_loss = 0.0\n",
        "        with torch.no_grad():\n",
        "            for batch in val_loader:\n",
        "                batch = torch.tensor(batch, dtype=torch.float32).to(device)\n",
        "                if variational:\n",
        "                    recon_batch, mean, logvar = model(batch)\n",
        "                    loss = loss_fn(recon_batch, batch, mean, logvar)\n",
        "                else:\n",
        "                    recon_batch = model(batch)\n",
        "                    loss = loss_fn(batch, recon_batch)\n",
        "                valid_loss += loss.item()\n",
        "\n",
        "        valid_loss /= len(val_loader)\n",
        "        val_losses.append(valid_loss)\n",
        "\n",
        "        scheduler.step(valid_loss)\n",
        "\n",
        "        if valid_loss < best_loss:\n",
        "            best_loss = valid_loss\n",
        "            best_model_wts = copy.deepcopy(model.state_dict())\n",
        "            early_stop_tolerant_count = 0\n",
        "        else:\n",
        "            early_stop_tolerant_count += 1\n",
        "\n",
        "        print(f\"Epoch {epoch+1:04d}: train loss {train_loss:.4f}, valid loss {valid_loss:.4f}\")\n",
        "\n",
        "        if early_stop_tolerant_count >= early_stop_tolerant:\n",
        "            print(\"Early stopping triggered.\")\n",
        "            break\n",
        "\n",
        "    model.load_state_dict(best_model_wts)\n",
        "    print(\"Finished Training.\")\n",
        "    return train_losses, val_losses"
      ],
      "metadata": {
        "id": "1iMGHmHZx9Ok"
      },
      "execution_count": null,
      "outputs": []
    },
    {
      "cell_type": "markdown",
      "source": [
        "## AutoEncoder"
      ],
      "metadata": {
        "id": "lL14o4MGx6yg"
      }
    },
    {
      "cell_type": "code",
      "source": [
        "train_losses_ae, val_losses_ae = train_model(model_ae, train_loader, val_loader, optimizer_ae, loss_function_ae, scheduler_ae, False, num_epochs=100, device=device)"
      ],
      "metadata": {
        "colab": {
          "base_uri": "https://localhost:8080/"
        },
        "id": "soZM7l65yLLT",
        "outputId": "50be1fbb-0844-4d71-a961-67b639f1a277"
      },
      "execution_count": null,
      "outputs": [
        {
          "output_type": "stream",
          "name": "stderr",
          "text": [
            "<ipython-input-30-eb483228514d>:15: UserWarning: To copy construct from a tensor, it is recommended to use sourceTensor.clone().detach() or sourceTensor.clone().detach().requires_grad_(True), rather than torch.tensor(sourceTensor).\n",
            "  batch = torch.tensor(batch, dtype=torch.float32).to(device)\n",
            "<ipython-input-30-eb483228514d>:38: UserWarning: To copy construct from a tensor, it is recommended to use sourceTensor.clone().detach() or sourceTensor.clone().detach().requires_grad_(True), rather than torch.tensor(sourceTensor).\n",
            "  batch = torch.tensor(batch, dtype=torch.float32).to(device)\n"
          ]
        },
        {
          "output_type": "stream",
          "name": "stdout",
          "text": [
            "Epoch 0001: train loss 3746593.9785, valid loss 85726.3890\n",
            "Epoch 0002: train loss 144053.5055, valid loss 50729.2204\n",
            "Epoch 0003: train loss 112825.0454, valid loss 58146.6984\n",
            "Epoch 0004: train loss 96323.6549, valid loss 46626.7136\n",
            "Epoch 0005: train loss 91106.0577, valid loss 107728.0100\n",
            "Epoch 0006: train loss 76006.1068, valid loss 45092.2299\n",
            "Epoch 0007: train loss 74094.3563, valid loss 42665.6435\n",
            "Epoch 0008: train loss 66226.1873, valid loss 26412.4232\n",
            "Epoch 0009: train loss 63277.1252, valid loss 29598.9246\n",
            "Epoch 0010: train loss 56904.8939, valid loss 22018.2232\n",
            "Epoch 0011: train loss 58788.0369, valid loss 20833.0376\n",
            "Epoch 0012: train loss 53234.3205, valid loss 19124.8727\n",
            "Epoch 0013: train loss 55050.9334, valid loss 29846.3934\n",
            "Epoch 0014: train loss 59619.5085, valid loss 22179.9815\n",
            "Epoch 0015: train loss 52749.3262, valid loss 23550.7394\n",
            "Epoch 0016: train loss 52603.2402, valid loss 46582.5573\n",
            "Epoch 0017: train loss 49593.7898, valid loss 20458.6073\n",
            "Epoch 0018: train loss 50392.7920, valid loss 21586.8776\n",
            "Epoch 0019: train loss 17626.8341, valid loss 20812.0393\n",
            "Epoch 0020: train loss 16191.5134, valid loss 18963.7883\n",
            "Epoch 0021: train loss 15810.9221, valid loss 19031.6341\n",
            "Epoch 0022: train loss 15502.1840, valid loss 18276.0177\n",
            "Epoch 0023: train loss 15302.4597, valid loss 19777.1848\n",
            "Epoch 0024: train loss 15082.9666, valid loss 17814.4599\n",
            "Epoch 0025: train loss 14942.6494, valid loss 18214.1865\n",
            "Epoch 0026: train loss 14826.7353, valid loss 17256.9800\n",
            "Epoch 0027: train loss 14627.9702, valid loss 16901.3346\n",
            "Epoch 0028: train loss 14459.3950, valid loss 17011.7647\n",
            "Epoch 0029: train loss 14225.6900, valid loss 17953.8718\n",
            "Epoch 0030: train loss 13987.7549, valid loss 15657.7874\n",
            "Epoch 0031: train loss 13776.2088, valid loss 14730.6805\n",
            "Epoch 0032: train loss 13583.8246, valid loss 15863.8181\n",
            "Epoch 0033: train loss 13399.8170, valid loss 13892.3439\n",
            "Epoch 0034: train loss 13287.6343, valid loss 14978.5111\n",
            "Epoch 0035: train loss 13122.2747, valid loss 12864.8222\n",
            "Epoch 0036: train loss 13023.9643, valid loss 13496.2540\n",
            "Epoch 0037: train loss 12911.7504, valid loss 13191.2028\n",
            "Epoch 0038: train loss 12803.6934, valid loss 12803.7364\n",
            "Epoch 0039: train loss 12659.9134, valid loss 11905.4861\n",
            "Epoch 0040: train loss 12653.5059, valid loss 10318.6829\n",
            "Epoch 0041: train loss 12461.6160, valid loss 10792.9563\n",
            "Epoch 0042: train loss 12404.4336, valid loss 10338.9561\n",
            "Epoch 0043: train loss 12277.0187, valid loss 9776.3595\n",
            "Epoch 0044: train loss 12184.6170, valid loss 9624.0202\n",
            "Epoch 0045: train loss 12138.8726, valid loss 10125.6792\n",
            "Epoch 0046: train loss 11950.4713, valid loss 9140.4945\n",
            "Epoch 0047: train loss 11886.0670, valid loss 9137.5812\n",
            "Epoch 0048: train loss 11798.4038, valid loss 8830.0629\n",
            "Epoch 0049: train loss 11734.4344, valid loss 8855.7944\n",
            "Epoch 0050: train loss 11589.7749, valid loss 8671.1469\n",
            "Epoch 0051: train loss 11505.3295, valid loss 8126.5120\n",
            "Epoch 0052: train loss 11497.2636, valid loss 7486.3711\n",
            "Epoch 0053: train loss 11362.3270, valid loss 7977.4383\n",
            "Epoch 0054: train loss 11296.4015, valid loss 8726.9582\n",
            "Epoch 0055: train loss 11230.3760, valid loss 7648.6694\n",
            "Epoch 0056: train loss 11098.4541, valid loss 7841.5524\n",
            "Epoch 0057: train loss 11072.4289, valid loss 8689.7554\n",
            "Epoch 0058: train loss 11035.0862, valid loss 8335.7842\n",
            "Epoch 0059: train loss 9920.1860, valid loss 7066.0022\n",
            "Epoch 0060: train loss 9856.2354, valid loss 7098.6238\n",
            "Epoch 0061: train loss 9835.4121, valid loss 7050.6509\n",
            "Epoch 0062: train loss 9818.8134, valid loss 6763.4711\n",
            "Epoch 0063: train loss 9800.2148, valid loss 7388.0365\n",
            "Epoch 0064: train loss 9789.6595, valid loss 7100.6577\n",
            "Epoch 0065: train loss 9775.6751, valid loss 7065.4530\n",
            "Epoch 0066: train loss 9764.4216, valid loss 7037.3494\n",
            "Epoch 0067: train loss 9753.8990, valid loss 6991.7708\n",
            "Epoch 0068: train loss 9742.0030, valid loss 6832.3033\n",
            "Epoch 0069: train loss 9630.2713, valid loss 6828.9819\n",
            "Epoch 0070: train loss 9625.6486, valid loss 6987.8633\n",
            "Epoch 0071: train loss 9622.8350, valid loss 6824.8964\n",
            "Epoch 0072: train loss 9621.6632, valid loss 6898.6460\n",
            "Early stopping triggered.\n",
            "Finished Training.\n"
          ]
        }
      ]
    },
    {
      "cell_type": "code",
      "source": [
        "save_model('ae', model_ae, input_dim, latent_dim, hidden_dim)"
      ],
      "metadata": {
        "id": "-v_2R6SYznSN"
      },
      "execution_count": null,
      "outputs": []
    },
    {
      "cell_type": "markdown",
      "source": [
        "## LSTM AutoEncoder"
      ],
      "metadata": {
        "id": "wXl7pCG1yQl1"
      }
    },
    {
      "cell_type": "code",
      "source": [
        "train_losses_lstm_ae, val_losses_lstm_ae = train_model(model_lstm_ae, train_loader, val_loader, optimizer_lstm_ae, loss_function_lstm_ae, scheduler_lstm_ae, False, num_epochs=100, device=device)"
      ],
      "metadata": {
        "id": "qmC0XTG-z6Ja",
        "colab": {
          "base_uri": "https://localhost:8080/"
        },
        "outputId": "e8067464-1086-461a-c8dc-a5b6f5e64d3d"
      },
      "execution_count": null,
      "outputs": [
        {
          "output_type": "stream",
          "name": "stderr",
          "text": [
            "C:\\Users\\beren\\AppData\\Local\\Temp\\ipykernel_16372\\4122512765.py:15: UserWarning: To copy construct from a tensor, it is recommended to use sourceTensor.detach().clone() or sourceTensor.detach().clone().requires_grad_(True), rather than torch.tensor(sourceTensor).\n",
            "  batch = torch.tensor(batch, dtype=torch.float32).to(device)\n",
            "C:\\Users\\beren\\AppData\\Local\\Temp\\ipykernel_16372\\4122512765.py:38: UserWarning: To copy construct from a tensor, it is recommended to use sourceTensor.detach().clone() or sourceTensor.detach().clone().requires_grad_(True), rather than torch.tensor(sourceTensor).\n",
            "  batch = torch.tensor(batch, dtype=torch.float32).to(device)\n"
          ]
        },
        {
          "output_type": "stream",
          "name": "stdout",
          "text": [
            "Epoch 0001: train loss 484686602.6281, valid loss 26659638.2477\n",
            "Epoch 0002: train loss 24587868.0093, valid loss 14049063.8727\n",
            "Epoch 0003: train loss 17806276.3389, valid loss 9828138.6842\n",
            "Epoch 0004: train loss 7483515.6929, valid loss 5516648.1820\n",
            "Epoch 0005: train loss 5230576.3371, valid loss 3885575.0685\n",
            "Epoch 0006: train loss 4107833.6561, valid loss 5309432.7394\n",
            "Epoch 0007: train loss 11212954.2899, valid loss 6486255.1841\n",
            "Epoch 0008: train loss 13973055.9771, valid loss 8971457.0284\n",
            "Epoch 0009: train loss 12833585.8724, valid loss 9557031.2028\n",
            "Epoch 0010: train loss 13604243.8522, valid loss 9152343.7176\n",
            "Epoch 0011: train loss 14004243.5311, valid loss 9978875.8604\n",
            "Epoch 0012: train loss 10458566.7293, valid loss 8960171.4019\n",
            "Epoch 0013: train loss 10301433.4261, valid loss 8925261.8582\n",
            "Epoch 0014: train loss 10292712.6537, valid loss 8950015.0371\n",
            "Epoch 0015: train loss 10299603.8725, valid loss 8966927.4015\n",
            "Early stopping triggered.\n",
            "Finished Training.\n"
          ]
        }
      ]
    },
    {
      "cell_type": "markdown",
      "source": [
        "## LSTM Variational AutoEncoder"
      ],
      "metadata": {
        "id": "ZE3BsmeRyQnn"
      }
    },
    {
      "cell_type": "code",
      "source": [
        "train_losses_lstm_vae, val_losses_lstm_vae = train_model(model_lstm_vae, train_loader, val_loader, optimizer_lstm_vae, loss_function_lstm_vae, scheduler_lstm_vae, True, num_epochs=100, device=device)"
      ],
      "metadata": {
        "id": "7YqN6z7M0AdS",
        "colab": {
          "base_uri": "https://localhost:8080/"
        },
        "outputId": "dcb55893-1b54-4a4e-e20c-bd6af92fc45e"
      },
      "execution_count": null,
      "outputs": [
        {
          "output_type": "stream",
          "name": "stderr",
          "text": [
            "C:\\Users\\beren\\AppData\\Local\\Temp\\ipykernel_16372\\4122512765.py:15: UserWarning: To copy construct from a tensor, it is recommended to use sourceTensor.detach().clone() or sourceTensor.detach().clone().requires_grad_(True), rather than torch.tensor(sourceTensor).\n",
            "  batch = torch.tensor(batch, dtype=torch.float32).to(device)\n",
            "C:\\Users\\beren\\AppData\\Local\\Temp\\ipykernel_16372\\4122512765.py:38: UserWarning: To copy construct from a tensor, it is recommended to use sourceTensor.detach().clone() or sourceTensor.detach().clone().requires_grad_(True), rather than torch.tensor(sourceTensor).\n",
            "  batch = torch.tensor(batch, dtype=torch.float32).to(device)\n"
          ]
        },
        {
          "output_type": "stream",
          "name": "stdout",
          "text": [
            "Epoch 0001: train loss 479709263.9279, valid loss 26761825.6954\n",
            "Epoch 0002: train loss 31093425.7893, valid loss 19361644.7293\n",
            "Epoch 0003: train loss 28257835.5092, valid loss 19789416.6956\n",
            "Epoch 0004: train loss 25822521.8918, valid loss 20726859.3412\n",
            "Epoch 0005: train loss 24667014.4285, valid loss 20577813.0159\n",
            "Epoch 0006: train loss 25171671.9553, valid loss 20470875.3184\n",
            "Epoch 0007: train loss 23701195.9420, valid loss 20459874.7399\n",
            "Epoch 0008: train loss 25742572.5053, valid loss 20556115.4575\n",
            "Epoch 0009: train loss 23834008.9334, valid loss 20488681.8278\n",
            "Epoch 0010: train loss 23240646.4510, valid loss 20492438.1242\n",
            "Epoch 0011: train loss 22926572.5109, valid loss 20477925.8783\n",
            "Epoch 0012: train loss 22553609.6046, valid loss 20477209.7088\n",
            "Early stopping triggered.\n",
            "Finished Training.\n"
          ]
        }
      ]
    },
    {
      "cell_type": "markdown",
      "source": [
        "# Evaluation"
      ],
      "metadata": {
        "id": "wIrIycCByUJb"
      }
    },
    {
      "cell_type": "code",
      "source": [
        "def evaluate_model(model, variational, test_loader, device, loss_fn, percentile_threshold=90):\n",
        "    model.eval()\n",
        "    anomaly_scores = []\n",
        "\n",
        "    with torch.no_grad():\n",
        "        for batch in test_loader:\n",
        "            batch = torch.tensor(batch, dtype=torch.float32).to(device)\n",
        "\n",
        "            batch_scores = []\n",
        "            for i in range(batch.shape[0]):  # Iterate through each sequence in the batch\n",
        "                sequence = batch[i].unsqueeze(0)  # Shape: (1, seq_len, features)\n",
        "                if variational:\n",
        "                    recon_sequence, mean, logvar = model(sequence)\n",
        "                    loss = loss_fn(recon_sequence, sequence, mean, logvar)\n",
        "                else:\n",
        "                    recon_sequence = model(sequence)\n",
        "                    loss = loss_fn(sequence, recon_sequence)\n",
        "                batch_scores.append(loss.item())\n",
        "\n",
        "            anomaly_scores.extend(batch_scores)\n",
        "\n",
        "    # Calculate threshold and identify anomalies\n",
        "    threshold = np.percentile(anomaly_scores, percentile_threshold)\n",
        "    anomaly_indices = [i for i, score in enumerate(anomaly_scores) if score > threshold]\n",
        "    return anomaly_indices"
      ],
      "metadata": {
        "id": "GXPXM9Lt1jDF"
      },
      "execution_count": null,
      "outputs": []
    },
    {
      "cell_type": "code",
      "source": [
        "def calculate_f1_score(anomaly_indices, true_anomalies):\n",
        "    # Create a binary array representing predicted anomalies\n",
        "    predicted_anomalies = np.zeros_like(true_anomalies)\n",
        "    for index in anomaly_indices:\n",
        "        if index < len(predicted_anomalies):  # Check index bounds\n",
        "          predicted_anomalies[index] = 1\n",
        "\n",
        "    # Calculate the F1 score\n",
        "    f1 = f1_score(true_anomalies, predicted_anomalies)\n",
        "    return f1, predicted_anomalies"
      ],
      "metadata": {
        "id": "NkhSBc1z2Pls"
      },
      "execution_count": null,
      "outputs": []
    },
    {
      "cell_type": "markdown",
      "source": [
        "## AutoEncoder"
      ],
      "metadata": {
        "id": "xjRGdTxNyap6"
      }
    },
    {
      "cell_type": "code",
      "source": [
        "anomalies_ae = evaluate_model(model_ae, False, test_loader, device, loss_function_ae, 90)"
      ],
      "metadata": {
        "colab": {
          "base_uri": "https://localhost:8080/"
        },
        "id": "AqMBuOYN1mxI",
        "outputId": "2f87c01f-ab4f-47c0-f5dc-e1499041e7dd"
      },
      "execution_count": null,
      "outputs": [
        {
          "output_type": "stream",
          "name": "stderr",
          "text": [
            "<ipython-input-33-6ed720cb0935>:7: UserWarning: To copy construct from a tensor, it is recommended to use sourceTensor.clone().detach() or sourceTensor.clone().detach().requires_grad_(True), rather than torch.tensor(sourceTensor).\n",
            "  batch = torch.tensor(batch, dtype=torch.float32).to(device)\n"
          ]
        }
      ]
    },
    {
      "cell_type": "code",
      "source": [
        "f1_ae, predicted_anomalies_ae = calculate_f1_score(anomalies_ae, true_anomalies)\n",
        "print(f\"F1 Score: {f1_ae}\")"
      ],
      "metadata": {
        "colab": {
          "base_uri": "https://localhost:8080/"
        },
        "id": "fMR4BtWC2Tyr",
        "outputId": "f095516d-4949-4945-cf87-b6e8212f5e01"
      },
      "execution_count": null,
      "outputs": [
        {
          "output_type": "stream",
          "name": "stdout",
          "text": [
            "F1 Score: 0.7452063045878928\n"
          ]
        }
      ]
    },
    {
      "cell_type": "code",
      "source": [
        "print(classification_report(true_anomalies, predicted_anomalies_ae))"
      ],
      "metadata": {
        "colab": {
          "base_uri": "https://localhost:8080/"
        },
        "id": "kW1_UDGz2UNZ",
        "outputId": "78132f88-456a-4eef-af0e-4c4e9f33fa00"
      },
      "execution_count": null,
      "outputs": [
        {
          "output_type": "stream",
          "name": "stdout",
          "text": [
            "              precision    recall  f1-score   support\n",
            "\n",
            "           0       0.96      0.98      0.97    395298\n",
            "           1       0.82      0.68      0.75     54621\n",
            "\n",
            "    accuracy                           0.94    449919\n",
            "   macro avg       0.89      0.83      0.86    449919\n",
            "weighted avg       0.94      0.94      0.94    449919\n",
            "\n"
          ]
        }
      ]
    },
    {
      "cell_type": "code",
      "source": [
        "print(confusion_matrix(true_anomalies, predicted_anomalies_ae))"
      ],
      "metadata": {
        "colab": {
          "base_uri": "https://localhost:8080/"
        },
        "id": "fBMQeHrW2VsX",
        "outputId": "cf7a9007-435b-40ab-cfc7-0cb18d29a9c8"
      },
      "execution_count": null,
      "outputs": [
        {
          "output_type": "stream",
          "name": "stdout",
          "text": [
            "[[387424   7874]\n",
            " [ 17506  37115]]\n"
          ]
        }
      ]
    },
    {
      "cell_type": "markdown",
      "source": [
        "## LSTM AutoEncoder"
      ],
      "metadata": {
        "id": "QWhkcjKQybqC"
      }
    },
    {
      "cell_type": "code",
      "source": [
        "anomalies_lstm_ae = evaluate_model(model_lstm_ae, False, test_loader, device, loss_function_lstm_ae, 90)"
      ],
      "metadata": {
        "id": "Tmu1tVlv2FPL",
        "colab": {
          "base_uri": "https://localhost:8080/"
        },
        "outputId": "d4a8aaea-4b15-49b4-9719-66ce0d4ab96b"
      },
      "execution_count": null,
      "outputs": [
        {
          "output_type": "stream",
          "name": "stderr",
          "text": [
            "C:\\Users\\beren\\AppData\\Local\\Temp\\ipykernel_16372\\2047070644.py:7: UserWarning: To copy construct from a tensor, it is recommended to use sourceTensor.detach().clone() or sourceTensor.detach().clone().requires_grad_(True), rather than torch.tensor(sourceTensor).\n",
            "  batch = torch.tensor(batch, dtype=torch.float32).to(device)\n"
          ]
        }
      ]
    },
    {
      "cell_type": "code",
      "source": [
        "f1_lstm_ae, predicted_anomalies_lstm_ae = calculate_f1_score(anomalies_lstm_ae, true_anomalies)\n",
        "print(f\"F1 Score: {f1_lstm_ae}\")"
      ],
      "metadata": {
        "id": "m4pkCHJg2Y3f",
        "colab": {
          "base_uri": "https://localhost:8080/"
        },
        "outputId": "7c8a8f02-c30e-4627-a591-e4a401e9d794"
      },
      "execution_count": null,
      "outputs": [
        {
          "output_type": "stream",
          "name": "stdout",
          "text": [
            "F1 Score: 0.7037044473446441\n"
          ]
        }
      ]
    },
    {
      "cell_type": "code",
      "source": [
        "print(classification_report(true_anomalies, predicted_anomalies_lstm_ae))"
      ],
      "metadata": {
        "id": "eUx_V7Oa2Y5W",
        "colab": {
          "base_uri": "https://localhost:8080/"
        },
        "outputId": "27b744b9-03df-4991-d061-6611c01b4a73"
      },
      "execution_count": null,
      "outputs": [
        {
          "output_type": "stream",
          "name": "stdout",
          "text": [
            "              precision    recall  f1-score   support\n",
            "\n",
            "           0       0.95      0.97      0.96    395298\n",
            "           1       0.78      0.64      0.70     54621\n",
            "\n",
            "    accuracy                           0.93    449919\n",
            "   macro avg       0.87      0.81      0.83    449919\n",
            "weighted avg       0.93      0.93      0.93    449919\n",
            "\n"
          ]
        }
      ]
    },
    {
      "cell_type": "code",
      "source": [
        "print(confusion_matrix(true_anomalies, predicted_anomalies_lstm_ae))"
      ],
      "metadata": {
        "id": "NX7Lv5O32Y7g",
        "colab": {
          "base_uri": "https://localhost:8080/"
        },
        "outputId": "884fcf3d-9012-4fc2-ccc9-4b5a11257ff2"
      },
      "execution_count": null,
      "outputs": [
        {
          "output_type": "stream",
          "name": "stdout",
          "text": [
            "[[385357   9941]\n",
            " [ 19573  35048]]\n"
          ]
        }
      ]
    },
    {
      "cell_type": "markdown",
      "source": [
        "## LSTM Variational AutoEncoder"
      ],
      "metadata": {
        "id": "g2_TWpfGycvh"
      }
    },
    {
      "cell_type": "code",
      "source": [
        "anomalies_lstm_vae = evaluate_model(model_lstm_vae, True, test_loader, device, loss_function_lstm_vae, 90)"
      ],
      "metadata": {
        "id": "00oIIYKJ2LIt",
        "colab": {
          "base_uri": "https://localhost:8080/"
        },
        "outputId": "57906a21-19eb-4d38-ca46-b4e1fa5891e2"
      },
      "execution_count": null,
      "outputs": [
        {
          "output_type": "stream",
          "name": "stderr",
          "text": [
            "C:\\Users\\beren\\AppData\\Local\\Temp\\ipykernel_16372\\2047070644.py:7: UserWarning: To copy construct from a tensor, it is recommended to use sourceTensor.detach().clone() or sourceTensor.detach().clone().requires_grad_(True), rather than torch.tensor(sourceTensor).\n",
            "  batch = torch.tensor(batch, dtype=torch.float32).to(device)\n"
          ]
        }
      ]
    },
    {
      "cell_type": "code",
      "source": [
        "f1_lstm_vae, predicted_anomalies_lstm_vae = calculate_f1_score(anomalies_lstm_vae, true_anomalies)\n",
        "print(f\"F1 Score: {f1_lstm_vae}\")"
      ],
      "metadata": {
        "id": "tBCeC4V42i9s",
        "colab": {
          "base_uri": "https://localhost:8080/"
        },
        "outputId": "15a0ef0e-ea92-4456-f59c-d55d3c680f04"
      },
      "execution_count": null,
      "outputs": [
        {
          "output_type": "stream",
          "name": "stdout",
          "text": [
            "F1 Score: 0.7031623330990865\n"
          ]
        }
      ]
    },
    {
      "cell_type": "code",
      "source": [
        "print(classification_report(true_anomalies, predicted_anomalies_lstm_vae))"
      ],
      "metadata": {
        "id": "P56-eb9U2i_7",
        "colab": {
          "base_uri": "https://localhost:8080/"
        },
        "outputId": "8049f2c8-6437-4da5-d18e-3e1861db0733"
      },
      "execution_count": null,
      "outputs": [
        {
          "output_type": "stream",
          "name": "stdout",
          "text": [
            "              precision    recall  f1-score   support\n",
            "\n",
            "           0       0.95      0.97      0.96    395298\n",
            "           1       0.78      0.64      0.70     54621\n",
            "\n",
            "    accuracy                           0.93    449919\n",
            "   macro avg       0.87      0.81      0.83    449919\n",
            "weighted avg       0.93      0.93      0.93    449919\n",
            "\n"
          ]
        }
      ]
    },
    {
      "cell_type": "code",
      "source": [
        "print(confusion_matrix(true_anomalies, predicted_anomalies_lstm_vae))"
      ],
      "metadata": {
        "id": "fYzVR-EL2jCH",
        "colab": {
          "base_uri": "https://localhost:8080/"
        },
        "outputId": "e2b6145a-d501-411a-f62b-8e900ba1b024"
      },
      "execution_count": null,
      "outputs": [
        {
          "output_type": "stream",
          "name": "stdout",
          "text": [
            "[[385330   9968]\n",
            " [ 19600  35021]]\n"
          ]
        }
      ]
    }
  ]
}